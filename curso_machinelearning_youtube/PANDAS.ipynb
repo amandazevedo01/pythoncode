{
 "cells": [
  {
   "cell_type": "markdown",
   "id": "a8b3a9ca",
   "metadata": {},
   "source": [
    "# APRENDENDO PANDAS"
   ]
  },
  {
   "cell_type": "code",
   "execution_count": 2,
   "id": "041495d9",
   "metadata": {},
   "outputs": [],
   "source": [
    "import pandas as pd"
   ]
  },
  {
   "cell_type": "code",
   "execution_count": 3,
   "id": "8b224d34",
   "metadata": {},
   "outputs": [],
   "source": [
    "alunos = {'Nome':['Ricardo','Pedro','Roberto','Carlos'],\n",
    "         'Nota':[4,7,5.5,9],\n",
    "         'Aprovado':['Nao','Sim','Nao','Sim']}\n"
   ]
  },
  {
   "cell_type": "code",
   "execution_count": 4,
   "id": "595181fc",
   "metadata": {},
   "outputs": [],
   "source": [
    "dataframe = pd.DataFrame(alunos) #transformando dicionario em dataframe"
   ]
  },
  {
   "cell_type": "code",
   "execution_count": 5,
   "id": "8c570dbf",
   "metadata": {},
   "outputs": [
    {
     "name": "stdout",
     "output_type": "stream",
     "text": [
      "      Nome  Nota Aprovado\n",
      "0  Ricardo   4.0      Nao\n",
      "1    Pedro   7.0      Sim\n",
      "2  Roberto   5.5      Nao\n",
      "3   Carlos   9.0      Sim\n"
     ]
    }
   ],
   "source": [
    "print(dataframe) #transforma em uma tabela com indices"
   ]
  },
  {
   "cell_type": "code",
   "execution_count": null,
   "id": "2b5e8431",
   "metadata": {},
   "outputs": [],
   "source": [
    "#o Series transforma tanto listas quanto arrays em Series, mas precisam ser unidimenssionais"
   ]
  },
  {
   "cell_type": "code",
   "execution_count": 7,
   "id": "19151eff",
   "metadata": {},
   "outputs": [
    {
     "name": "stdout",
     "output_type": "stream",
     "text": [
      "0     2\n",
      "1     6\n",
      "2     9\n",
      "3    10\n",
      "4     5\n",
      "dtype: int64\n"
     ]
    }
   ],
   "source": [
    "objeto1 = pd.Series([2,6,9,10,5]) #comando Series cria um array unidimenssional com indices\n",
    "print(objeto1)"
   ]
  },
  {
   "cell_type": "code",
   "execution_count": 12,
   "id": "240af813",
   "metadata": {},
   "outputs": [
    {
     "name": "stdout",
     "output_type": "stream",
     "text": [
      "[ 2  6  9 10  5]\n",
      "[[ 2  6  9 10  5]\n",
      " [ 3  4  5  6  7]]\n"
     ]
    }
   ],
   "source": [
    "import numpy as np\n",
    "array1 =np.array([2,6,9,10,5])\n",
    "array2 = np.array([(2,6,9,10,5),(3,4,5,6,7)]) #ele pode criar um array bidimenssioal\n",
    "print(array1)\n",
    "print(array2)"
   ]
  },
  {
   "cell_type": "code",
   "execution_count": 14,
   "id": "e549c59d",
   "metadata": {},
   "outputs": [
    {
     "name": "stdout",
     "output_type": "stream",
     "text": [
      "0     2\n",
      "1     6\n",
      "2     9\n",
      "3    10\n",
      "4     5\n",
      "dtype: int32\n"
     ]
    }
   ],
   "source": [
    "objeto2 = pd.Series(array1) #transforma um array na serie \n",
    "print(objeto2) "
   ]
  },
  {
   "cell_type": "code",
   "execution_count": 15,
   "id": "63e722b8",
   "metadata": {},
   "outputs": [],
   "source": [
    "alunosDIC = {'Nome':['Ricardo','Pedro','Roberto','Carlos'],\n",
    "         'Nota':[4,7,5.5,9],\n",
    "         'Aprovado':['Nao','Sim','Nao','Sim']}\n"
   ]
  },
  {
   "cell_type": "code",
   "execution_count": 16,
   "id": "810eee50",
   "metadata": {},
   "outputs": [],
   "source": [
    "alunosDF = pd.DataFrame(alunosDIC)"
   ]
  },
  {
   "cell_type": "code",
   "execution_count": 17,
   "id": "34f2b0e5",
   "metadata": {},
   "outputs": [
    {
     "name": "stdout",
     "output_type": "stream",
     "text": [
      "      Nome  Nota Aprovado\n",
      "0  Ricardo   4.0      Nao\n",
      "1    Pedro   7.0      Sim\n",
      "2  Roberto   5.5      Nao\n",
      "3   Carlos   9.0      Sim\n"
     ]
    }
   ],
   "source": [
    "print(alunosDF)"
   ]
  },
  {
   "cell_type": "code",
   "execution_count": 18,
   "id": "cd3f8464",
   "metadata": {},
   "outputs": [
    {
     "data": {
      "text/html": [
       "<div>\n",
       "<style scoped>\n",
       "    .dataframe tbody tr th:only-of-type {\n",
       "        vertical-align: middle;\n",
       "    }\n",
       "\n",
       "    .dataframe tbody tr th {\n",
       "        vertical-align: top;\n",
       "    }\n",
       "\n",
       "    .dataframe thead th {\n",
       "        text-align: right;\n",
       "    }\n",
       "</style>\n",
       "<table border=\"1\" class=\"dataframe\">\n",
       "  <thead>\n",
       "    <tr style=\"text-align: right;\">\n",
       "      <th></th>\n",
       "      <th>Nome</th>\n",
       "      <th>Nota</th>\n",
       "      <th>Aprovado</th>\n",
       "    </tr>\n",
       "  </thead>\n",
       "  <tbody>\n",
       "    <tr>\n",
       "      <th>0</th>\n",
       "      <td>Ricardo</td>\n",
       "      <td>4.0</td>\n",
       "      <td>Nao</td>\n",
       "    </tr>\n",
       "    <tr>\n",
       "      <th>1</th>\n",
       "      <td>Pedro</td>\n",
       "      <td>7.0</td>\n",
       "      <td>Sim</td>\n",
       "    </tr>\n",
       "    <tr>\n",
       "      <th>2</th>\n",
       "      <td>Roberto</td>\n",
       "      <td>5.5</td>\n",
       "      <td>Nao</td>\n",
       "    </tr>\n",
       "    <tr>\n",
       "      <th>3</th>\n",
       "      <td>Carlos</td>\n",
       "      <td>9.0</td>\n",
       "      <td>Sim</td>\n",
       "    </tr>\n",
       "  </tbody>\n",
       "</table>\n",
       "</div>"
      ],
      "text/plain": [
       "      Nome  Nota Aprovado\n",
       "0  Ricardo   4.0      Nao\n",
       "1    Pedro   7.0      Sim\n",
       "2  Roberto   5.5      Nao\n",
       "3   Carlos   9.0      Sim"
      ]
     },
     "execution_count": 18,
     "metadata": {},
     "output_type": "execute_result"
    }
   ],
   "source": [
    "alunosDF.head() #cabeçalho"
   ]
  },
  {
   "cell_type": "code",
   "execution_count": 19,
   "id": "183e3cd6",
   "metadata": {},
   "outputs": [
    {
     "data": {
      "text/plain": [
       "(4, 3)"
      ]
     },
     "execution_count": 19,
     "metadata": {},
     "output_type": "execute_result"
    }
   ],
   "source": [
    "alunosDF.shape #quantas linhas e colunas"
   ]
  },
  {
   "cell_type": "code",
   "execution_count": 24,
   "id": "c77e959d",
   "metadata": {},
   "outputs": [
    {
     "data": {
      "text/html": [
       "<div>\n",
       "<style scoped>\n",
       "    .dataframe tbody tr th:only-of-type {\n",
       "        vertical-align: middle;\n",
       "    }\n",
       "\n",
       "    .dataframe tbody tr th {\n",
       "        vertical-align: top;\n",
       "    }\n",
       "\n",
       "    .dataframe thead th {\n",
       "        text-align: right;\n",
       "    }\n",
       "</style>\n",
       "<table border=\"1\" class=\"dataframe\">\n",
       "  <thead>\n",
       "    <tr style=\"text-align: right;\">\n",
       "      <th></th>\n",
       "      <th>Nota</th>\n",
       "    </tr>\n",
       "  </thead>\n",
       "  <tbody>\n",
       "    <tr>\n",
       "      <th>count</th>\n",
       "      <td>4.000000</td>\n",
       "    </tr>\n",
       "    <tr>\n",
       "      <th>mean</th>\n",
       "      <td>6.375000</td>\n",
       "    </tr>\n",
       "    <tr>\n",
       "      <th>std</th>\n",
       "      <td>2.136001</td>\n",
       "    </tr>\n",
       "    <tr>\n",
       "      <th>min</th>\n",
       "      <td>4.000000</td>\n",
       "    </tr>\n",
       "    <tr>\n",
       "      <th>25%</th>\n",
       "      <td>5.125000</td>\n",
       "    </tr>\n",
       "    <tr>\n",
       "      <th>50%</th>\n",
       "      <td>6.250000</td>\n",
       "    </tr>\n",
       "    <tr>\n",
       "      <th>75%</th>\n",
       "      <td>7.500000</td>\n",
       "    </tr>\n",
       "    <tr>\n",
       "      <th>max</th>\n",
       "      <td>9.000000</td>\n",
       "    </tr>\n",
       "  </tbody>\n",
       "</table>\n",
       "</div>"
      ],
      "text/plain": [
       "           Nota\n",
       "count  4.000000\n",
       "mean   6.375000\n",
       "std    2.136001\n",
       "min    4.000000\n",
       "25%    5.125000\n",
       "50%    6.250000\n",
       "75%    7.500000\n",
       "max    9.000000"
      ]
     },
     "execution_count": 24,
     "metadata": {},
     "output_type": "execute_result"
    }
   ],
   "source": [
    "alunosDF.describe() #traz insformacoes estatisticas"
   ]
  },
  {
   "cell_type": "markdown",
   "id": "01e20b69",
   "metadata": {},
   "source": [
    "# filtros de linhas e colunas"
   ]
  },
  {
   "cell_type": "code",
   "execution_count": 25,
   "id": "8b8ebc09",
   "metadata": {},
   "outputs": [
    {
     "data": {
      "text/plain": [
       "0    4.0\n",
       "1    7.0\n",
       "2    5.5\n",
       "3    9.0\n",
       "Name: Nota, dtype: float64"
      ]
     },
     "execution_count": 25,
     "metadata": {},
     "output_type": "execute_result"
    }
   ],
   "source": [
    "alunosDF['Nota']"
   ]
  },
  {
   "cell_type": "code",
   "execution_count": 26,
   "id": "73b9a9f8",
   "metadata": {},
   "outputs": [
    {
     "data": {
      "text/plain": [
       "0    Ricardo\n",
       "1      Pedro\n",
       "2    Roberto\n",
       "3     Carlos\n",
       "Name: Nome, dtype: object"
      ]
     },
     "execution_count": 26,
     "metadata": {},
     "output_type": "execute_result"
    }
   ],
   "source": [
    "alunosDF['Nome']"
   ]
  },
  {
   "cell_type": "code",
   "execution_count": 28,
   "id": "89cdcde3",
   "metadata": {},
   "outputs": [
    {
     "data": {
      "text/html": [
       "<div>\n",
       "<style scoped>\n",
       "    .dataframe tbody tr th:only-of-type {\n",
       "        vertical-align: middle;\n",
       "    }\n",
       "\n",
       "    .dataframe tbody tr th {\n",
       "        vertical-align: top;\n",
       "    }\n",
       "\n",
       "    .dataframe thead th {\n",
       "        text-align: right;\n",
       "    }\n",
       "</style>\n",
       "<table border=\"1\" class=\"dataframe\">\n",
       "  <thead>\n",
       "    <tr style=\"text-align: right;\">\n",
       "      <th></th>\n",
       "      <th>Nome</th>\n",
       "      <th>Nota</th>\n",
       "      <th>Aprovado</th>\n",
       "    </tr>\n",
       "  </thead>\n",
       "  <tbody>\n",
       "    <tr>\n",
       "      <th>0</th>\n",
       "      <td>Ricardo</td>\n",
       "      <td>4.0</td>\n",
       "      <td>Nao</td>\n",
       "    </tr>\n",
       "    <tr>\n",
       "      <th>2</th>\n",
       "      <td>Roberto</td>\n",
       "      <td>5.5</td>\n",
       "      <td>Nao</td>\n",
       "    </tr>\n",
       "  </tbody>\n",
       "</table>\n",
       "</div>"
      ],
      "text/plain": [
       "      Nome  Nota Aprovado\n",
       "0  Ricardo   4.0      Nao\n",
       "2  Roberto   5.5      Nao"
      ]
     },
     "execution_count": 28,
     "metadata": {},
     "output_type": "execute_result"
    }
   ],
   "source": [
    "alunosDF.loc[[0,2]] #traz a linha do indice 0"
   ]
  },
  {
   "cell_type": "code",
   "execution_count": 30,
   "id": "99886ab4",
   "metadata": {},
   "outputs": [
    {
     "data": {
      "text/html": [
       "<div>\n",
       "<style scoped>\n",
       "    .dataframe tbody tr th:only-of-type {\n",
       "        vertical-align: middle;\n",
       "    }\n",
       "\n",
       "    .dataframe tbody tr th {\n",
       "        vertical-align: top;\n",
       "    }\n",
       "\n",
       "    .dataframe thead th {\n",
       "        text-align: right;\n",
       "    }\n",
       "</style>\n",
       "<table border=\"1\" class=\"dataframe\">\n",
       "  <thead>\n",
       "    <tr style=\"text-align: right;\">\n",
       "      <th></th>\n",
       "      <th>Nome</th>\n",
       "      <th>Nota</th>\n",
       "      <th>Aprovado</th>\n",
       "    </tr>\n",
       "  </thead>\n",
       "  <tbody>\n",
       "    <tr>\n",
       "      <th>0</th>\n",
       "      <td>Ricardo</td>\n",
       "      <td>4.0</td>\n",
       "      <td>Nao</td>\n",
       "    </tr>\n",
       "    <tr>\n",
       "      <th>1</th>\n",
       "      <td>Pedro</td>\n",
       "      <td>7.0</td>\n",
       "      <td>Sim</td>\n",
       "    </tr>\n",
       "    <tr>\n",
       "      <th>2</th>\n",
       "      <td>Roberto</td>\n",
       "      <td>5.5</td>\n",
       "      <td>Nao</td>\n",
       "    </tr>\n",
       "  </tbody>\n",
       "</table>\n",
       "</div>"
      ],
      "text/plain": [
       "      Nome  Nota Aprovado\n",
       "0  Ricardo   4.0      Nao\n",
       "1    Pedro   7.0      Sim\n",
       "2  Roberto   5.5      Nao"
      ]
     },
     "execution_count": 30,
     "metadata": {},
     "output_type": "execute_result"
    }
   ],
   "source": [
    "alunosDF.loc[0:2] #traz a linha do indice 0"
   ]
  },
  {
   "cell_type": "code",
   "execution_count": 31,
   "id": "b8f0facd",
   "metadata": {},
   "outputs": [
    {
     "data": {
      "text/html": [
       "<div>\n",
       "<style scoped>\n",
       "    .dataframe tbody tr th:only-of-type {\n",
       "        vertical-align: middle;\n",
       "    }\n",
       "\n",
       "    .dataframe tbody tr th {\n",
       "        vertical-align: top;\n",
       "    }\n",
       "\n",
       "    .dataframe thead th {\n",
       "        text-align: right;\n",
       "    }\n",
       "</style>\n",
       "<table border=\"1\" class=\"dataframe\">\n",
       "  <thead>\n",
       "    <tr style=\"text-align: right;\">\n",
       "      <th></th>\n",
       "      <th>Nome</th>\n",
       "      <th>Nota</th>\n",
       "      <th>Aprovado</th>\n",
       "    </tr>\n",
       "  </thead>\n",
       "  <tbody>\n",
       "    <tr>\n",
       "      <th>1</th>\n",
       "      <td>Pedro</td>\n",
       "      <td>7.0</td>\n",
       "      <td>Sim</td>\n",
       "    </tr>\n",
       "  </tbody>\n",
       "</table>\n",
       "</div>"
      ],
      "text/plain": [
       "    Nome  Nota Aprovado\n",
       "1  Pedro   7.0      Sim"
      ]
     },
     "execution_count": 31,
     "metadata": {},
     "output_type": "execute_result"
    }
   ],
   "source": [
    "alunosDF.loc[alunosDF['Nome']=='Pedro'] #filtrando pelo PEDRO"
   ]
  },
  {
   "cell_type": "markdown",
   "id": "7794a649",
   "metadata": {},
   "source": [
    "# MALIPULANDO LINHAS"
   ]
  },
  {
   "cell_type": "code",
   "execution_count": 32,
   "id": "8a480ed1",
   "metadata": {},
   "outputs": [],
   "source": [
    "primeiraslinhas = alunosDF.loc[0:2] #vai receber as 1o linhas"
   ]
  },
  {
   "cell_type": "code",
   "execution_count": 33,
   "id": "45109ccd",
   "metadata": {},
   "outputs": [
    {
     "name": "stdout",
     "output_type": "stream",
     "text": [
      "      Nome  Nota Aprovado\n",
      "0  Ricardo   4.0      Nao\n",
      "1    Pedro   7.0      Sim\n",
      "2  Roberto   5.5      Nao\n"
     ]
    }
   ],
   "source": [
    "print(primeiraslinhas)"
   ]
  },
  {
   "cell_type": "code",
   "execution_count": 37,
   "id": "66508b37",
   "metadata": {},
   "outputs": [],
   "source": [
    "novoDF = alunosDF.loc[alunosDF['Nota']!=9] "
   ]
  },
  {
   "cell_type": "code",
   "execution_count": 38,
   "id": "ee802aa2",
   "metadata": {},
   "outputs": [
    {
     "name": "stdout",
     "output_type": "stream",
     "text": [
      "      Nome  Nota Aprovado\n",
      "0  Ricardo   4.0      Nao\n",
      "1    Pedro   7.0      Sim\n",
      "2  Roberto   5.5      Nao\n"
     ]
    }
   ],
   "source": [
    "print(novoDF)"
   ]
  },
  {
   "cell_type": "code",
   "execution_count": 39,
   "id": "740ebba0",
   "metadata": {},
   "outputs": [],
   "source": [
    "alunosReprovados = alunosDF.loc[alunosDF['Aprovado']!='Sim'] "
   ]
  },
  {
   "cell_type": "code",
   "execution_count": 40,
   "id": "f1a243fb",
   "metadata": {},
   "outputs": [
    {
     "name": "stdout",
     "output_type": "stream",
     "text": [
      "      Nome  Nota Aprovado\n",
      "0  Ricardo   4.0      Nao\n",
      "2  Roberto   5.5      Nao\n"
     ]
    }
   ],
   "source": [
    "print(alunosReprovados)"
   ]
  }
 ],
 "metadata": {
  "kernelspec": {
   "display_name": "Python 3",
   "language": "python",
   "name": "python3"
  },
  "language_info": {
   "codemirror_mode": {
    "name": "ipython",
    "version": 3
   },
   "file_extension": ".py",
   "mimetype": "text/x-python",
   "name": "python",
   "nbconvert_exporter": "python",
   "pygments_lexer": "ipython3",
   "version": "3.8.8"
  }
 },
 "nbformat": 4,
 "nbformat_minor": 5
}
